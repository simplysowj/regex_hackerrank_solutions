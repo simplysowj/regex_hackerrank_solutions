{
 "cells": [
  {
   "cell_type": "markdown",
   "id": "4aa3d6a5",
   "metadata": {},
   "source": [
    "CSS colors are defined using a hexadecimal (HEX) notation for the combination of Red, Green, and Blue color values (RGB).\n",
    "\n",
    "Specifications of HEX Color Code\n",
    "\n",
    "■ It must start with a '#' symbol.\n",
    "■ It can have 3 or 6 digits.\n",
    "■ Each digit is in the range of 0 to F. (1,2,3,4,5,6,7,8,9,0,A,B,C,D,E,F)\n",
    "Examples\n",
    "\n",
    "Valid Hex Color Codes\n",
    "#FFF \n",
    "#025 \n",
    "#F0A1FB \n",
    "\n",
    "Invalid Hex Color Codes\n",
    "#fffabg\n",
    "#abcf\n",
    "#12365erff"
   ]
  },
  {
   "cell_type": "code",
   "execution_count": 1,
   "id": "4fd3d810",
   "metadata": {},
   "outputs": [
    {
     "name": "stdout",
     "output_type": "stream",
     "text": [
      "11\n",
      "#BED\n",
      "{\n",
      "color: #FfFdF8; background-color:#aef;\n",
      "#FfFdF8\n",
      "#aef\n",
      "font-size: 123px;\n",
      "background: -webkit-linear-gradient(top, #f9f9f9, #fff);\n",
      "#f9f9f9\n",
      "#fff\n",
      "}\n",
      "#Cab\n",
      "{\n",
      "background-color: #ABC;\n",
      "#ABC\n",
      "border: 2px dashed #fff;\n",
      "#fff\n",
      "}\n"
     ]
    }
   ],
   "source": [
    "import re\n",
    "n = int(input())\n",
    "for t in range(n):\n",
    "    s = input()\n",
    "    match_result = re.findall(r'(#[0-9A-Fa-f]{3}|#[0-9A-Fa-f]{6})(?:[;,.)]{1})',s)\n",
    "    for i in match_result:\n",
    "        if i != '':\n",
    "            print(i)"
   ]
  },
  {
   "cell_type": "markdown",
   "id": "db5197b7",
   "metadata": {},
   "source": [
    "Explanation\n",
    "\n",
    "#BED and #Cab satisfy the Hex Color Code criteria, but they are used as selectors and not as color codes in the given CSS.\n",
    "\n",
    "Hence, the valid color codes are:\n",
    "\n",
    "#FfFdF8\n",
    "#aef\n",
    "#f9f9f9\n",
    "#fff\n",
    "#ABC\n",
    "#fff\n",
    "\n",
    "Note: There are no comments ( // or /* */) in CSS Code."
   ]
  },
  {
   "cell_type": "code",
   "execution_count": null,
   "id": "d46f7fd1",
   "metadata": {},
   "outputs": [],
   "source": []
  }
 ],
 "metadata": {
  "kernelspec": {
   "display_name": "Python 3 (ipykernel)",
   "language": "python",
   "name": "python3"
  },
  "language_info": {
   "codemirror_mode": {
    "name": "ipython",
    "version": 3
   },
   "file_extension": ".py",
   "mimetype": "text/x-python",
   "name": "python",
   "nbconvert_exporter": "python",
   "pygments_lexer": "ipython3",
   "version": "3.9.7"
  }
 },
 "nbformat": 4,
 "nbformat_minor": 5
}
