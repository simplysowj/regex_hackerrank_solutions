{
 "cells": [
  {
   "cell_type": "markdown",
   "id": "09b6a0b5",
   "metadata": {},
   "source": [
    "You and Fredrick are good friends. Yesterday, Fredrick received N credit cards from ABCD Bank. He wants to verify whether his credit card numbers are valid or not. You happen to be great at regex so he is asking for your help!\n",
    "\n",
    "A valid credit card from ABCD Bank has the following characteristics:\n",
    "\n",
    "► It must start with a 4,5  or 6 .\n",
    "► It must contain exactly 16 digits.\n",
    "► It must only consist of digits (0-9).\n",
    "► It may have digits in groups of 4, separated by one hyphen \"-\".\n",
    "► It must NOT use any other separator like ' ' , '_', etc.\n",
    "► It must NOT have 4 or more consecutive repeated digits."
   ]
  },
  {
   "cell_type": "code",
   "execution_count": 1,
   "id": "418eddab",
   "metadata": {},
   "outputs": [
    {
     "name": "stdout",
     "output_type": "stream",
     "text": [
      "6\n",
      "4123456789123456\n",
      "Valid\n",
      "5123-4567-8912-3456\n",
      "Valid\n",
      "61234-567-8912-3456\n",
      "Invalid\n",
      "4123356789123456\n",
      "Valid\n",
      "5133-3367-8912-3456\n",
      "Invalid\n",
      "5123 - 3567 - 8912 - 3456\n",
      "Invalid\n"
     ]
    }
   ],
   "source": [
    "import re\n",
    "\n",
    "\n",
    "for _ in range(int(input())):\n",
    "    num = input()\n",
    "\n",
    "    a = bool(re.match(r\"^[456]\\d{15}$\", num))\n",
    "    b = bool(re.match(r\"^[456]\\d{3}\\-\\d{4}\\-\\d{4}\\-\\d{4}$\", num))\n",
    "    num = num.replace(\"-\", \"\")\n",
    "    c = bool(re.match(r\"(?!.*(\\d)(-?\\1){3})\", num))\n",
    "    if (a or b) and c:\n",
    "        print(\"Valid\")\n",
    "    else:\n",
    "        print(\"Invalid\")"
   ]
  },
  {
   "cell_type": "markdown",
   "id": "ad29a889",
   "metadata": {},
   "source": [
    "Explanation\n",
    "\n",
    "4123456789123456 : Valid\n",
    "5123-4567-8912-3456 : Valid\n",
    "61234-567-8912-3456 : Invalid, because the card number is not divided into equal groups of 4.\n",
    "4123356789123456 : Valid\n",
    "5133-3367-8912-3456 : Invalid, consecutive digits 3333 is repeating 3 times.\n",
    "5123 - 3567 - 8912 - 3456 : Invalid, because space '  ' and - are used as separators."
   ]
  },
  {
   "cell_type": "code",
   "execution_count": null,
   "id": "5ab1e406",
   "metadata": {},
   "outputs": [],
   "source": []
  }
 ],
 "metadata": {
  "kernelspec": {
   "display_name": "Python 3 (ipykernel)",
   "language": "python",
   "name": "python3"
  },
  "language_info": {
   "codemirror_mode": {
    "name": "ipython",
    "version": 3
   },
   "file_extension": ".py",
   "mimetype": "text/x-python",
   "name": "python",
   "nbconvert_exporter": "python",
   "pygments_lexer": "ipython3",
   "version": "3.9.7"
  }
 },
 "nbformat": 4,
 "nbformat_minor": 5
}
