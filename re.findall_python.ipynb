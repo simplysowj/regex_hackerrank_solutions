{
 "cells": [
  {
   "cell_type": "markdown",
   "id": "beb96503",
   "metadata": {},
   "source": [
    "You are given a string s. It consists of alphanumeric characters, spaces andsymbols(+,-).\n",
    "Your task : to find  the substrings of s that contains two / more vowels.\n",
    "Also, these substrings must lie between two consonants should contain vowels only."
   ]
  },
  {
   "cell_type": "code",
   "execution_count": 4,
   "id": "58a68a0a",
   "metadata": {},
   "outputs": [
    {
     "name": "stdout",
     "output_type": "stream",
     "text": [
      "rabcdeefgyYhFjkIoomnpOeorteeeeet\n",
      "ee\n",
      "Ioo\n",
      "Oeo\n",
      "eeeee\n"
     ]
    }
   ],
   "source": [
    "\n",
    "import re\n",
    "s=input()\n",
    "v='aeiou'\n",
    "c='qwrtypsdfghjklzxcvbnm'\n",
    "l=re.findall(r'(?<=[%s])([%s]{2,})[%s]'%(c,v,c),s,flags=re.IGNORECASE)\n",
    "if not l:\n",
    "    print(-1)\n",
    "else:\n",
    "    for i in l:\n",
    "        print(i)\n",
    "    "
   ]
  },
  {
   "cell_type": "code",
   "execution_count": null,
   "id": "5f3191f6",
   "metadata": {},
   "outputs": [],
   "source": []
  }
 ],
 "metadata": {
  "kernelspec": {
   "display_name": "Python 3 (ipykernel)",
   "language": "python",
   "name": "python3"
  },
  "language_info": {
   "codemirror_mode": {
    "name": "ipython",
    "version": 3
   },
   "file_extension": ".py",
   "mimetype": "text/x-python",
   "name": "python",
   "nbconvert_exporter": "python",
   "pygments_lexer": "ipython3",
   "version": "3.9.7"
  }
 },
 "nbformat": 4,
 "nbformat_minor": 5
}
