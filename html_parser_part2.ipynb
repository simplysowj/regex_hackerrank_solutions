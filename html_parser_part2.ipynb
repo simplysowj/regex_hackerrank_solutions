{
 "cells": [
  {
   "cell_type": "markdown",
   "id": "7f5c8bae",
   "metadata": {},
   "source": [
    ".handle_comment(data)\n",
    "This method is called when a comment is encountered (e.g. <!--comment-->).\n",
    "The data argument is the content inside the comment tag:\n",
    "\n",
    "from HTMLParser import HTMLParser\n",
    "\n",
    "class MyHTMLParser(HTMLParser):\n",
    "    def handle_comment(self, data):\n",
    "          print \"Comment  :\", data\n",
    "\n",
    "\n",
    ".handle_data(data)\n",
    "This method is called to process arbitrary data (e.g. text nodes and the content of <script>...</script> and <style>...</style>).\n",
    "The data argument is the text content of HTML.\n",
    "\n",
    "from HTMLParser import HTMLParser\n",
    "\n",
    "class MyHTMLParser(HTMLParser):\n",
    "    def handle_data(self, data):\n",
    "        print \"Data     :\", data\n",
    "Task\n",
    "\n",
    "You are given an HTML code snippet of  lines.\n",
    "Your task is to print the single-line comments, multi-line comments and the data.\n",
    "\n",
    "Print the result in the following format:\n",
    "\n",
    ">>> Single-line Comment  \n",
    "Comment\n",
    ">>> Data                 \n",
    "My Data\n",
    ">>> Multi-line Comment  \n",
    "Comment_multiline[0]\n",
    "Comment_multiline[1]\n",
    ">>> Data\n",
    "My Data\n",
    ">>> Single-line Comment:  "
   ]
  },
  {
   "cell_type": "code",
   "execution_count": 2,
   "id": "49250eef",
   "metadata": {},
   "outputs": [
    {
     "name": "stdout",
     "output_type": "stream",
     "text": [
      "4\n",
      "<!--[if IE 9]>IE9-specific content\n",
      "<![endif]-->\n",
      "<div> Welcome to HackerRank</div>\n",
      "<!--[if IE 9]>IE9-specific content<![endif]-->\n",
      ">>> Multi-line Comment\n",
      "[if IE 9]>IE9-specific content\n",
      "<![endif]\n",
      ">>> Data\n",
      " Welcome to HackerRank\n",
      ">>> Single-line Comment\n",
      "[if IE 9]>IE9-specific content<![endif]\n"
     ]
    }
   ],
   "source": [
    "from html.parser import HTMLParser\n",
    "\n",
    "class MyHTMLParser(HTMLParser):\n",
    "  \n",
    "    def handle_comment(self, data):\n",
    "        number_of_line = len(data.split('\\n'))\n",
    "        if number_of_line > 1:\n",
    "            print('>>> Multi-line Comment')\n",
    "        else:\n",
    "            print('>>> Single-line Comment')\n",
    "        if data.strip():\n",
    "            print(data)\n",
    "    def handle_data(self, data):\n",
    "        if data.strip():\n",
    "            print(\">>> Data\")\n",
    "            print(data)\n",
    "  \n",
    "  \n",
    "\n",
    "\n",
    "\n",
    "  \n",
    "  \n",
    "html = \"\"       \n",
    "for i in range(int(input())):\n",
    "    html += input().rstrip()\n",
    "    html += '\\n'\n",
    "    \n",
    "parser = MyHTMLParser()\n",
    "parser.feed(html)\n",
    "parser.close()"
   ]
  }
 ],
 "metadata": {
  "kernelspec": {
   "display_name": "Python 3 (ipykernel)",
   "language": "python",
   "name": "python3"
  },
  "language_info": {
   "codemirror_mode": {
    "name": "ipython",
    "version": 3
   },
   "file_extension": ".py",
   "mimetype": "text/x-python",
   "name": "python",
   "nbconvert_exporter": "python",
   "pygments_lexer": "ipython3",
   "version": "3.9.7"
  }
 },
 "nbformat": 4,
 "nbformat_minor": 5
}
