{
 "cells": [
  {
   "cell_type": "markdown",
   "id": "a227d848",
   "metadata": {},
   "source": [
    "You are given a text of n lines. The text contains && and || symbols.\n",
    "Your task is to modify those symbols to the following:\n",
    "\n",
    "&& → and\n",
    "|| → or\n",
    "Both && and || should have a space \" \" on both sides."
   ]
  },
  {
   "cell_type": "code",
   "execution_count": 5,
   "id": "b942c53a",
   "metadata": {},
   "outputs": [
    {
     "name": "stdout",
     "output_type": "stream",
     "text": [
      "11\n",
      "a = 1;\n",
      "b = input();\n",
      "if a + b > 0 && a - b < 0:\n",
      "start()\n",
      "elif a*b > 10 || a/b < 1:\n",
      "stop()\n",
      "print set(list(a)) | set(list(b)) \n",
      "#Note do not change &&& or ||| or & or |\n",
      "#Only change those '&&' which have space on both sides.\n",
      "#Only change those '|| which have space on both sides.\n",
      "\n",
      "a = 1;\n",
      "b = input();\n",
      "if a + b > 0 and a - b < 0:\n",
      "start()\n",
      "elif a*b > 10 or a/b < 1:\n",
      "stop()\n",
      "print set(list(a)) | set(list(b)) \n",
      "#Note do not change &&& or ||| or & or |\n",
      "#Only change those '&&' which have space on both sides.\n",
      "#Only change those '|| which have space on both sides.\n",
      "\n"
     ]
    }
   ],
   "source": [
    "import re\n",
    "n=int(input())\n",
    "S=\"\"\"\"\"\"\n",
    "for i in range(n):\n",
    "    s=\"\"+input()+\"\"\n",
    "    S+=s\n",
    "    if i<n-1:\n",
    "        S+=\"\\n\"\n",
    "        \n",
    "\n",
    "    \n",
    "S=re.sub(\"(?<= )(&&)(?= )\",'and',S)\n",
    "S=re.sub(\"(?<= )(\\|\\|)(?= )\",\"or\",S)\n",
    "print(S)"
   ]
  },
  {
   "cell_type": "code",
   "execution_count": null,
   "id": "ec110710",
   "metadata": {},
   "outputs": [],
   "source": []
  }
 ],
 "metadata": {
  "kernelspec": {
   "display_name": "Python 3 (ipykernel)",
   "language": "python",
   "name": "python3"
  },
  "language_info": {
   "codemirror_mode": {
    "name": "ipython",
    "version": 3
   },
   "file_extension": ".py",
   "mimetype": "text/x-python",
   "name": "python",
   "nbconvert_exporter": "python",
   "pygments_lexer": "ipython3",
   "version": "3.9.7"
  }
 },
 "nbformat": 4,
 "nbformat_minor": 5
}
