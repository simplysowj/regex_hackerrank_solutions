{
 "cells": [
  {
   "cell_type": "markdown",
   "id": "1739b91f",
   "metadata": {},
   "source": [
    "Neo has a complex matrix script. The matrix script is a  X  grid of strings. It consists of alphanumeric characters, spaces and symbols (!,@,#,$,%,&).\n",
    "\n",
    "Capture.JPG\n",
    "\n",
    "To decode the script, Neo needs to read each column and select only the alphanumeric characters and connect them. Neo reads the column from top to bottom and starts reading from the leftmost column.\n",
    "\n",
    "If there are symbols or spaces between two alphanumeric characters of the decoded script, then Neo replaces them with a single space '' for better readability.\n",
    "\n",
    "Neo feels that there is no need to use 'if' conditions for decoding.\n",
    "\n",
    "Alphanumeric characters consist of: [A-Z, a-z, and 0-9].\n",
    "\n",
    "Input Format\n",
    "\n",
    "The first line contains space-separated integers  (rows) and  (columns) respectively.\n",
    "The next  lines contain the row elements of the matrix script.\n",
    "\n",
    "Constraints\n",
    "\n",
    "\n",
    "Note: A  score will be awarded for using 'if' conditions in your code.\n",
    "\n",
    "Output Format\n",
    "\n",
    "Print the decoded matrix script."
   ]
  },
  {
   "cell_type": "code",
   "execution_count": null,
   "id": "99e11342",
   "metadata": {},
   "outputs": [],
   "source": [
    "import re\n",
    "import sys\n",
    "\n",
    "\n",
    "\n",
    "\n",
    "first_multiple_input = input().rstrip().split()\n",
    "\n",
    "n = int(first_multiple_input[0])\n",
    "\n",
    "m = int(first_multiple_input[1])\n",
    "\n",
    "matrix = []\n",
    "\n",
    "for _ in range(n):\n",
    "    matrix_item = input()\n",
    "    matrix.append(matrix_item)\n",
    "encoded_string = \"\".join([matrix[j][i] for i in range(m) for j in range(n)])\n",
    "pat = r'(?<=[a-zA-Z0-9])[^a-zA-Z0-9]+(?=[a-zA-Z0-9])'\n",
    "print(re.sub(pat,' ',encoded_string))"
   ]
  },
  {
   "cell_type": "markdown",
   "id": "b34e9bea",
   "metadata": {},
   "source": [
    "Explanation 0\n",
    "\n",
    "The decoded script is:\n",
    "\n",
    "This$#is% Matrix#  %!\n",
    "Neo replaces the symbols or spaces between two alphanumeric characters with a single space   ' ' for better readability.\n",
    "\n",
    "So, the final decoded script is:\n",
    "\n",
    "This is Matrix#  %!"
   ]
  },
  {
   "cell_type": "code",
   "execution_count": null,
   "id": "9ad990e5",
   "metadata": {},
   "outputs": [],
   "source": []
  }
 ],
 "metadata": {
  "kernelspec": {
   "display_name": "Python 3 (ipykernel)",
   "language": "python",
   "name": "python3"
  },
  "language_info": {
   "codemirror_mode": {
    "name": "ipython",
    "version": 3
   },
   "file_extension": ".py",
   "mimetype": "text/x-python",
   "name": "python",
   "nbconvert_exporter": "python",
   "pygments_lexer": "ipython3",
   "version": "3.9.7"
  }
 },
 "nbformat": 4,
 "nbformat_minor": 5
}
