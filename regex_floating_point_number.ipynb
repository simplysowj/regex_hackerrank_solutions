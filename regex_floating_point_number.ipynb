{
 "cells": [
  {
   "cell_type": "code",
   "execution_count": 2,
   "id": "8ab4dc57",
   "metadata": {},
   "outputs": [
    {
     "name": "stdout",
     "output_type": "stream",
     "text": [
      "4\n",
      "4.000\n",
      "True\n",
      "-1.78\n",
      "True\n",
      "SomeRandomStuff\n",
      "False\n",
      "5.87\n",
      "True\n"
     ]
    }
   ],
   "source": [
    "#Detect floating point number\n",
    "import re\n",
    "if __name__ == \"__main__\":\n",
    "    t = int(input().strip())\n",
    "    pattern = '^[+-]?[0-9]*\\.[0-9]+$'\n",
    "    \n",
    "    for _ in range(t):\n",
    "        print(bool(re.match(pattern, input())))\n",
    "        \n",
    "    "
   ]
  },
  {
   "cell_type": "code",
   "execution_count": null,
   "id": "93a107ee",
   "metadata": {},
   "outputs": [],
   "source": []
  },
  {
   "cell_type": "code",
   "execution_count": null,
   "id": "03e27ed7",
   "metadata": {},
   "outputs": [],
   "source": []
  }
 ],
 "metadata": {
  "kernelspec": {
   "display_name": "Python 3 (ipykernel)",
   "language": "python",
   "name": "python3"
  },
  "language_info": {
   "codemirror_mode": {
    "name": "ipython",
    "version": 3
   },
   "file_extension": ".py",
   "mimetype": "text/x-python",
   "name": "python",
   "nbconvert_exporter": "python",
   "pygments_lexer": "ipython3",
   "version": "3.9.7"
  }
 },
 "nbformat": 4,
 "nbformat_minor": 5
}
