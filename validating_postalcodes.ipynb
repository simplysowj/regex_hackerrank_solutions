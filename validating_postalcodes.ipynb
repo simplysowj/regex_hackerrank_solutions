{
 "cells": [
  {
   "cell_type": "markdown",
   "id": "0ba4e2c4",
   "metadata": {},
   "source": [
    "A valid postal code  have to fullfil both below requirements:\n",
    "\n",
    " must be a number in the range from  to  inclusive.\n",
    " must not contain more than one alternating repetitive digit pair.\n",
    "Alternating repetitive digits are digits which repeat immediately after the next digit. In other words, an alternating repetitive digit pair is formed by two equal digits that have just a single digit between them.\n",
    "\n",
    "For example:\n",
    "\n",
    "121426 # Here, 1 is an alternating repetitive digit.\n",
    "523563 # Here, NO digit is an alternating repetitive digit.\n",
    "552523 # Here, both 2 and 5 are alternating repetitive digits.\n",
    "Your task is to provide two regular expressions regex_integer_in_range and regex_alternating_repetitive_digit_pair. Where:\n",
    "\n",
    "regex_integer_in_range should match only integers range from  to  inclusive\n",
    "\n",
    "regex_alternating_repetitive_digit_pair should find alternating repetitive digits pairs in a given string.\n",
    "\n",
    "Both these regular expressions will be used by the provided code template to check if the input string  is a valid postal code using the following expression:\n",
    "\n",
    "(bool(re.match(regex_integer_in_range, P)) \n",
    "and len(re.findall(regex_alternating_repetitive_digit_pair, P)) < 2)\n",
    "Input Format\n",
    "\n",
    "Locked stub code in the editor reads a single string denoting p from stdin and uses provided expression and your regular expressions to validate if p is a valid postal code.\n",
    "\n",
    "Output Format\n",
    "\n",
    "You are not responsible for printing anything to stdout. Locked stub code in the editor does that."
   ]
  },
  {
   "cell_type": "code",
   "execution_count": 1,
   "id": "8649be86",
   "metadata": {},
   "outputs": [
    {
     "name": "stdout",
     "output_type": "stream",
     "text": [
      "110000\n",
      "False\n"
     ]
    }
   ],
   "source": [
    "regex_integer_in_range = r\"^[1-9][\\d]{5}$\" \t# Do not delete 'r'.\n",
    "regex_alternating_repetitive_digit_pair = r\"(\\d)(?=\\d\\1)\"\t# Do not delete 'r'.\n",
    "\n",
    "\n",
    "import re\n",
    "P = input()\n",
    "\n",
    "print (bool(re.match(regex_integer_in_range, P)) \n",
    "and len(re.findall(regex_alternating_repetitive_digit_pair, P)) < 2)"
   ]
  },
  {
   "cell_type": "markdown",
   "id": "796cc452",
   "metadata": {},
   "source": [
    "Explanation 0\n",
    "\n",
    "1 1 0000 : (0, 0) and (0, 0) are two alternating digit pairs. Hence, it is an invalid postal code.\n",
    "\n",
    "Note:\n",
    "A score of  will be awarded for using 'if' conditions in your code.\n",
    "You have to pass all the testcases to get a positive score."
   ]
  },
  {
   "cell_type": "code",
   "execution_count": null,
   "id": "45ce7ff1",
   "metadata": {},
   "outputs": [],
   "source": []
  }
 ],
 "metadata": {
  "kernelspec": {
   "display_name": "Python 3 (ipykernel)",
   "language": "python",
   "name": "python3"
  },
  "language_info": {
   "codemirror_mode": {
    "name": "ipython",
    "version": 3
   },
   "file_extension": ".py",
   "mimetype": "text/x-python",
   "name": "python",
   "nbconvert_exporter": "python",
   "pygments_lexer": "ipython3",
   "version": "3.9.7"
  }
 },
 "nbformat": 4,
 "nbformat_minor": 5
}
