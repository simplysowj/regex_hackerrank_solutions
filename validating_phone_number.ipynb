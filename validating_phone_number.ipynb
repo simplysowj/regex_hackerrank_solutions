{
 "cells": [
  {
   "cell_type": "markdown",
   "id": "8d662033",
   "metadata": {},
   "source": [
    "You are given some input, and you are required to check whether they are valid mobile numbers.\n",
    "\n",
    "A valid mobile number is a ten digit number starting with a 7,8 or 9 .\n",
    "\n",
    "Concept\n",
    "\n",
    "A valid mobile number is a ten digit number starting with a 7,8 or 9 .\n",
    "\n",
    "Regular expressions are a key concept in any programming language. A quick explanation with Python examples is available here. You could also go through the link below to read more about regular expressions in Python."
   ]
  },
  {
   "cell_type": "code",
   "execution_count": 1,
   "id": "d7370837",
   "metadata": {},
   "outputs": [
    {
     "name": "stdout",
     "output_type": "stream",
     "text": [
      "2\n",
      "9587456281\n",
      "YES\n",
      "9587456282\n",
      "YES\n"
     ]
    }
   ],
   "source": [
    "import re\n",
    "def val_phone():\n",
    "    n=int(input())\n",
    "    pattern=\"^[789]\"\n",
    "    for i in range(n):\n",
    "        number=(input())\n",
    "        if len(number)==10 and number.isdigit():\n",
    "            ans=re.findall(pattern,number)\n",
    "            if len(ans)==1:\n",
    "                print (\"YES\")\n",
    "            else:\n",
    "                print (\"NO\" )  \n",
    "        else:\n",
    "            print (\"NO\")            \n",
    "\n",
    "\n",
    "val_phone()  "
   ]
  }
 ],
 "metadata": {
  "kernelspec": {
   "display_name": "Python 3 (ipykernel)",
   "language": "python",
   "name": "python3"
  },
  "language_info": {
   "codemirror_mode": {
    "name": "ipython",
    "version": 3
   },
   "file_extension": ".py",
   "mimetype": "text/x-python",
   "name": "python",
   "nbconvert_exporter": "python",
   "pygments_lexer": "ipython3",
   "version": "3.9.7"
  }
 },
 "nbformat": 4,
 "nbformat_minor": 5
}
