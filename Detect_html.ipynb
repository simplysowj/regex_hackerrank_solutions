{
 "cells": [
  {
   "cell_type": "markdown",
   "id": "e05a7c1d",
   "metadata": {},
   "source": [
    "You are given an HTML code snippet of  lines.\n",
    "Your task is to detect and print all the HTML tags, attributes and attribute values.\n",
    "\n",
    "Print the detected items in the following format:\n",
    "\n",
    "Tag1\n",
    "Tag2\n",
    "-> Attribute2[0] > Attribute_value2[0]\n",
    "-> Attribute2[1] > Attribute_value2[1]\n",
    "-> Attribute2[2] > Attribute_value2[2]\n",
    "Tag3\n",
    "-> Attribute3[0] > Attribute_value3[0]\n",
    "\n",
    "\n",
    "The -> symbol indicates that the tag contains an attribute. It is immediately followed by the name of the attribute and the attribute value.\n",
    "The > symbol acts as a separator of attributes and attribute values.\n",
    "\n",
    "If an HTML tag has no attribute then simply print the name of the tag.\n",
    "\n",
    "Note: Do not detect any HTML tag, attribute or attribute value inside the HTML comment tags (<!-- Comments -->). Comments can be multiline.\n",
    "All attributes have an attribute value."
   ]
  },
  {
   "cell_type": "markdown",
   "id": "9eaf97ec",
   "metadata": {},
   "source": [
    "Input Format\n",
    "\n",
    "The first line contains an integer N, the number of lines in the HTML code snippet.\n",
    "The next N lines contain HTML code.\n",
    "\n",
    "\n",
    "\n",
    "\n",
    "Output Format\n",
    "\n",
    "Print the HTML tags, attributes and attribute values in order of their occurrence from top to bottom in the snippet.\n",
    "\n",
    "Format your answers as explained in the problem statement."
   ]
  },
  {
   "cell_type": "code",
   "execution_count": 1,
   "id": "8f69d939",
   "metadata": {},
   "outputs": [
    {
     "name": "stdout",
     "output_type": "stream",
     "text": [
      "9\n",
      "<head>\n",
      "<title>HTML</title>\n",
      "</head>\n",
      "<object type=\"application/x-flash\" \n",
      "data=\"your-file.swf\" \n",
      "width=\"0\" height=\"0\">\n",
      "<!-- <param name=\"movie\" value=\"your-file.swf\" /> -->\n",
      "<param name=\"quality\" value=\"high\"/>\n",
      "</object>\n",
      "head\n",
      "title\n",
      "object\n",
      "-> type > application/x-flash\n",
      "-> data > your-file.swf\n",
      "-> width > 0\n",
      "-> height > 0\n",
      "param\n",
      "-> name > quality\n",
      "-> value > high\n"
     ]
    }
   ],
   "source": [
    "from html.parser import HTMLParser\n",
    "class MyHTMLParser(HTMLParser):\n",
    "    def handle_starttag(self, tag, attrs):\n",
    "        print(tag)\n",
    "        for i in attrs:\n",
    "            print(\"->\", i[0], \">\", i[1])\n",
    "pars = MyHTMLParser()\n",
    "pars.feed(\"\".join([input().strip() for _ in range(int(input()))]))"
   ]
  },
  {
   "cell_type": "markdown",
   "id": "6845e38a",
   "metadata": {},
   "source": [
    "Explanation\n",
    "\n",
    "head tag: Print the head tag only because it has no attribute.\n",
    "\n",
    "title tag: Print the title tag only because it has no attribute.\n",
    "\n",
    "object tag: Print the object tag. In the next  lines, print the attributes type, data, width and                     height along with their respective values.\n",
    "\n",
    "<!-- Comment --> tag: Don't detect anything inside it.\n",
    "\n",
    "param tag: Print the param tag. In the next  lines, print the attributes name along with                     their respective values."
   ]
  },
  {
   "cell_type": "code",
   "execution_count": null,
   "id": "30c5b735",
   "metadata": {},
   "outputs": [],
   "source": []
  }
 ],
 "metadata": {
  "kernelspec": {
   "display_name": "Python 3 (ipykernel)",
   "language": "python",
   "name": "python3"
  },
  "language_info": {
   "codemirror_mode": {
    "name": "ipython",
    "version": 3
   },
   "file_extension": ".py",
   "mimetype": "text/x-python",
   "name": "python",
   "nbconvert_exporter": "python",
   "pygments_lexer": "ipython3",
   "version": "3.9.7"
  }
 },
 "nbformat": 4,
 "nbformat_minor": 5
}
