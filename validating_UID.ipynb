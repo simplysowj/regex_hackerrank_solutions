{
 "cells": [
  {
   "cell_type": "markdown",
   "id": "bae5763d",
   "metadata": {},
   "source": [
    "ABCXYZ company has up to 100 employees.\n",
    "The company decides to create a unique identification number (UID) for each of its employees.\n",
    "The company has assigned you the task of validating all the randomly generated UIDs.\n",
    "\n",
    "A valid UID must follow the rules below:\n",
    "\n",
    "It must contain at least 2  uppercase English alphabet characters.\n",
    "It must contain at least 3 digits (0 - 9 ).\n",
    "It should only contain alphanumeric characters (a -z ,A  -Z  &0  -9 ).\n",
    "No character should repeat.\n",
    "There must be exactly 10 characters in a valid UID.\n",
    "Input Format\n",
    "\n",
    "The first line contains an integer T , the number of test cases.\n",
    "The next T lines contains an employee's UID.\n",
    "\n",
    "Output Format\n",
    "\n",
    "For each test case, print 'Valid' if the UID is valid. Otherwise, print 'Invalid', on separate lines. Do not print the quotation marks."
   ]
  },
  {
   "cell_type": "code",
   "execution_count": 1,
   "id": "208e335b",
   "metadata": {},
   "outputs": [
    {
     "name": "stdout",
     "output_type": "stream",
     "text": [
      "2\n",
      "B1CD102354\n",
      "Invalid\n",
      "B1CDEF2354\n",
      "Valid\n"
     ]
    }
   ],
   "source": [
    "import re\n",
    "\n",
    "for i in range(int(input())):\n",
    "    N = input().strip()\n",
    "    if N.isalnum() and len(N) == 10:\n",
    "        if bool(re.search(r'(.*[A-Z]){2,}',N)) and bool(re.search(r'(.*[0-9]){3,}',N)):\n",
    "            if re.search(r'.*(.).*\\1+.*',N):\n",
    "                print ('Invalid')\n",
    "            else:\n",
    "                print ('Valid')\n",
    "        else:\n",
    "            print ('Invalid')\n",
    "    else:\n",
    "        print ('Invalid')"
   ]
  },
  {
   "cell_type": "markdown",
   "id": "29b665c5",
   "metadata": {},
   "source": [
    "Explanation\n",
    "\n",
    "B1CD102354: 1 is repeating → Invalid\n",
    "B1CDEF2354: Valid"
   ]
  },
  {
   "cell_type": "code",
   "execution_count": null,
   "id": "8ec0b37d",
   "metadata": {},
   "outputs": [],
   "source": []
  }
 ],
 "metadata": {
  "kernelspec": {
   "display_name": "Python 3 (ipykernel)",
   "language": "python",
   "name": "python3"
  },
  "language_info": {
   "codemirror_mode": {
    "name": "ipython",
    "version": 3
   },
   "file_extension": ".py",
   "mimetype": "text/x-python",
   "name": "python",
   "nbconvert_exporter": "python",
   "pygments_lexer": "ipython3",
   "version": "3.9.7"
  }
 },
 "nbformat": 4,
 "nbformat_minor": 5
}
